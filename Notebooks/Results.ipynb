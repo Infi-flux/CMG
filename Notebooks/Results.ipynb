{
 "cells": [
  {
   "cell_type": "code",
   "execution_count": 2,
   "id": "9686e26a",
   "metadata": {},
   "outputs": [],
   "source": [
    "import glob\n",
    "import os\n",
    "import pandas as pd\n",
    "import glob\n",
    "import os"
   ]
  },
  {
   "cell_type": "code",
   "execution_count": 12,
   "id": "aa0759c1",
   "metadata": {},
   "outputs": [],
   "source": [
    "def accuracy(file):\n",
    "    folder_path = '../cmg_results/'+file+'/accuracy/'  # Replace with your folder path\n",
    "    li = []\n",
    "    # Get all CSV files in the folder\n",
    "    csv_files = glob.glob(os.path.join(folder_path, '*.csv'))\n",
    "    for file in csv_files:\n",
    "        tmp = pd.read_csv(file, index_col = [0])\n",
    "        li.append(tmp[\"accuracy\"].mean())\n",
    "    return sum(li)/len(li)*100\n",
    "\n",
    "def top_n(fi, n):\n",
    "    folder_path = '../cmg_results/'+fi+'/accuracy/'  # Replace with your folder path\n",
    "    li = []\n",
    "    # Get all CSV files in the folder\n",
    "    csv_files = glob.glob(os.path.join(folder_path, '*.csv'))\n",
    "    for file in csv_files:\n",
    "        tmp = pd.read_csv(file, index_col = [0])\n",
    "    #     li.append(tmp.loc[\"accuracy\", \"f1-score\"])\n",
    "        li.append([file.replace('../cmg_results/'+fi+'/accuracy/', '').replace('.csv',''), tmp[\"accuracy\"].mean()])\n",
    "    li = pd.DataFrame(li, columns = ['symbol', 'accuracy']) \n",
    "    return li.sort_values(by='accuracy', ascending=False)[:n]\n",
    "\n",
    "def type_acc(fil, lii):\n",
    "    folder_path = '../cmg_results/'+fil+'/accuracy/'  # Replace with your folder path\n",
    "    li = []\n",
    "    # Get all CSV files in the folder\n",
    "    csv_files = glob.glob(os.path.join(folder_path, '*.csv'))\n",
    "    for file in csv_files:\n",
    "        tmp = pd.read_csv(file, index_col = [0])\n",
    "    #     li.append(tmp.loc[\"accuracy\", \"f1-score\"])\n",
    "        li.append([file.replace('cmg_results/'+fil+'/accuracy/', '').replace('.csv',''), tmp[\"accuracy\"].mean()])\n",
    "    li = pd.DataFrame(li, columns = ['symbol', 'accuracy'])\n",
    "    return li[li['symbol'].isin (lii)].accuracy.mean()\n",
    "\n"
   ]
  },
  {
   "cell_type": "code",
   "execution_count": null,
   "id": "08f209c3",
   "metadata": {},
   "outputs": [],
   "source": []
  },
  {
   "cell_type": "code",
   "execution_count": 4,
   "id": "d39c40f0",
   "metadata": {},
   "outputs": [
    {
     "name": "stdout",
     "output_type": "stream",
     "text": [
      "../cmg_results/Bilstm/accuracy/\n",
      "../cmg_results/CMG/accuracy/\n",
      "../cmg_results/GaussianNaiveBayes/accuracy/\n",
      "../cmg_results/GRU/accuracy/\n",
      "../cmg_results/logistic_regression/accuracy/\n",
      "../cmg_results/LSTM/accuracy/\n",
      "../cmg_results/multi_logistic_regression/accuracy/\n",
      "../cmg_results/RandomForestClassifier/accuracy/\n",
      "../cmg_results/XGBoost/accuracy/\n"
     ]
    }
   ],
   "source": [
    "import glob\n",
    "import os\n",
    "import pandas as pd\n",
    "import glob\n",
    "import os\n",
    "\n",
    "\n",
    "\n",
    "def accuracy(folder_path, indices):\n",
    "    li = []\n",
    "    for file in indices:\n",
    "        tmp = pd.read_csv(folder_path + file + '.csv', index_col = [0])\n",
    "        li.append(tmp[\"accuracy\"].mean())\n",
    "    return sum(li)/len(li)*100\n",
    "\n",
    "res = []\n",
    "folders = ['../cmg_results/' + j + '/accuracy/' for j in \n",
    "           ['Bilstm','CMG','GaussianNaiveBayes','GRU','logistic_regression',\n",
    "           'LSTM','multi_logistic_regression','RandomForestClassifier','XGBoost']]\n",
    "indices = list(pd.read_csv('../market_indices.csv', index_col = [0])['symbol'])\n",
    "for i in folders:\n",
    "    res.append([\n",
    "        i.replace('../cmg_results/','').replace('/accuracy/',''),\n",
    "        accuracy(i,indices)\n",
    "    ])\n",
    "    print(i)\n",
    "\n"
   ]
  },
  {
   "cell_type": "code",
   "execution_count": 10,
   "id": "7cf3b09f",
   "metadata": {},
   "outputs": [
    {
     "data": {
      "text/html": [
       "<div>\n",
       "<style scoped>\n",
       "    .dataframe tbody tr th:only-of-type {\n",
       "        vertical-align: middle;\n",
       "    }\n",
       "\n",
       "    .dataframe tbody tr th {\n",
       "        vertical-align: top;\n",
       "    }\n",
       "\n",
       "    .dataframe thead th {\n",
       "        text-align: right;\n",
       "    }\n",
       "</style>\n",
       "<table border=\"1\" class=\"dataframe\">\n",
       "  <thead>\n",
       "    <tr style=\"text-align: right;\">\n",
       "      <th></th>\n",
       "      <th>Models</th>\n",
       "      <th>accuracy</th>\n",
       "    </tr>\n",
       "  </thead>\n",
       "  <tbody>\n",
       "    <tr>\n",
       "      <th>1</th>\n",
       "      <td>CMG</td>\n",
       "      <td>76.723131</td>\n",
       "    </tr>\n",
       "    <tr>\n",
       "      <th>5</th>\n",
       "      <td>LSTM</td>\n",
       "      <td>76.045561</td>\n",
       "    </tr>\n",
       "    <tr>\n",
       "      <th>0</th>\n",
       "      <td>Bilstm</td>\n",
       "      <td>76.022196</td>\n",
       "    </tr>\n",
       "    <tr>\n",
       "      <th>3</th>\n",
       "      <td>GRU</td>\n",
       "      <td>76.010514</td>\n",
       "    </tr>\n",
       "    <tr>\n",
       "      <th>4</th>\n",
       "      <td>logistic_regression</td>\n",
       "      <td>75.625000</td>\n",
       "    </tr>\n",
       "    <tr>\n",
       "      <th>8</th>\n",
       "      <td>XGBoost</td>\n",
       "      <td>75.502336</td>\n",
       "    </tr>\n",
       "    <tr>\n",
       "      <th>7</th>\n",
       "      <td>RandomForestClassifier</td>\n",
       "      <td>75.391355</td>\n",
       "    </tr>\n",
       "    <tr>\n",
       "      <th>2</th>\n",
       "      <td>GaussianNaiveBayes</td>\n",
       "      <td>75.356308</td>\n",
       "    </tr>\n",
       "    <tr>\n",
       "      <th>6</th>\n",
       "      <td>multi_logistic_regression</td>\n",
       "      <td>74.994159</td>\n",
       "    </tr>\n",
       "  </tbody>\n",
       "</table>\n",
       "</div>"
      ],
      "text/plain": [
       "                      Models   accuracy\n",
       "1                        CMG  76.723131\n",
       "5                       LSTM  76.045561\n",
       "0                     Bilstm  76.022196\n",
       "3                        GRU  76.010514\n",
       "4        logistic_regression  75.625000\n",
       "8                    XGBoost  75.502336\n",
       "7     RandomForestClassifier  75.391355\n",
       "2         GaussianNaiveBayes  75.356308\n",
       "6  multi_logistic_regression  74.994159"
      ]
     },
     "execution_count": 10,
     "metadata": {},
     "output_type": "execute_result"
    }
   ],
   "source": [
    "pd.DataFrame(res, columns = ['Models','accuracy']).sort_values(by='accuracy', ascending=False)"
   ]
  },
  {
   "cell_type": "markdown",
   "id": "12d46fdb",
   "metadata": {},
   "source": [
    "# Significance Test"
   ]
  },
  {
   "cell_type": "code",
   "execution_count": 7,
   "id": "0fe25865",
   "metadata": {},
   "outputs": [
    {
     "name": "stdout",
     "output_type": "stream",
     "text": [
      "Bilstm\n",
      "CMG\n",
      "GaussianNaiveBayes\n",
      "GRU\n",
      "logistic_regression\n",
      "LSTM\n",
      "multi_logistic_regression\n",
      "RandomForestClassifier\n",
      "XGBoost\n"
     ]
    }
   ],
   "source": [
    "def accuracy_list(folder_path, market_indices):\n",
    "    li = []\n",
    "    # Get all CSV files in the folder\n",
    "    for file in market_indices:\n",
    "        tmp = pd.read_csv(folder_path + file + '.csv', index_col = [0])\n",
    "        li.append([file , tmp[\"accuracy\"].mean()])\n",
    "    return li\n",
    "\n",
    "folders = ['../cmg_results/' + j + '/accuracy/' for j in \n",
    "           ['Bilstm','CMG','GaussianNaiveBayes','GRU','logistic_regression',\n",
    "           'LSTM','multi_logistic_regression','RandomForestClassifier','XGBoost']]\n",
    "\n",
    "indices = list(pd.read_csv('../market_indices.csv', index_col = [0])['symbol'])\n",
    "\n",
    "dic = {}\n",
    "for i in folders:\n",
    "    li = accuracy_list(i, indices)\n",
    "    dic[i.replace('../cmg_results/','').replace('/accuracy/','')] = list(pd.DataFrame(\n",
    "        li, columns = ['symbol', 'accuracy'])['accuracy'])\n",
    "    print(i.replace('../cmg_results/','').replace('/accuracy/',''))\n"
   ]
  },
  {
   "cell_type": "code",
   "execution_count": 8,
   "id": "5a8b3bcf",
   "metadata": {},
   "outputs": [
    {
     "name": "stdout",
     "output_type": "stream",
     "text": [
      "P-value: CMG/Bilstm 0.0063\n",
      "P-value: CMG/GaussianNaiveBayes 0.0001\n",
      "P-value: CMG/GRU 0.0153\n",
      "P-value: CMG/logistic_regression 0.0006\n",
      "P-value: CMG/LSTM 0.0073\n",
      "P-value: CMG/multi_logistic_regression 0.0000\n",
      "P-value: CMG/RandomForestClassifier 0.0001\n",
      "P-value: CMG/XGBoost 0.0008\n"
     ]
    }
   ],
   "source": [
    "from scipy.stats import ttest_rel\n",
    "\n",
    "# Assuming you have two lists of accuracies for each model (length = 183)\n",
    "# Example: cmg_accuracies and gru_accuracies\n",
    "for j in dic.keys():\n",
    "    if 'CMG' == j:\n",
    "        continue    \n",
    "    t_stat, p_value = ttest_rel(dic['CMG'], dic[j])\n",
    "\n",
    "# print(f\"T-statistic: {t_stat:.4f}\")\n",
    "    print(f\"P-value: CMG/{j} {p_value:.4f}\")"
   ]
  },
  {
   "cell_type": "code",
   "execution_count": 9,
   "id": "56c04d3d",
   "metadata": {},
   "outputs": [
    {
     "name": "stdout",
     "output_type": "stream",
     "text": [
      " CMG/Bilstm: , P-value: 0.003987045692056329\n",
      " CMG/GaussianNaiveBayes: , P-value: 0.00011526043554910517\n",
      " CMG/GRU: , P-value: 0.025196878951501207\n",
      " CMG/logistic_regression: , P-value: 0.0010622974767814288\n",
      " CMG/LSTM: , P-value: 0.010039502593688772\n",
      " CMG/multi_logistic_regression: , P-value: 2.9270156137527177e-07\n",
      " CMG/RandomForestClassifier: , P-value: 0.00027048237687241864\n",
      " CMG/XGBoost: , P-value: 0.0015966548881843439\n"
     ]
    }
   ],
   "source": [
    "from scipy.stats import wilcoxon\n",
    "\n",
    "# Use the same paired accuracy lists\n",
    "for j in dic.keys():\n",
    "    if 'CMG' == j:\n",
    "        continue\n",
    "    stat, p = wilcoxon(dic['CMG'], dic[j])\n",
    "\n",
    "    # print(\"Wilcoxon signed-rank test results:\")\n",
    "    print(f\" CMG/{j}: , P-value: {p}\")"
   ]
  },
  {
   "cell_type": "markdown",
   "id": "ba014d3b",
   "metadata": {},
   "source": [
    "# Six Chaos tests"
   ]
  },
  {
   "cell_type": "markdown",
   "id": "73f9bc4f",
   "metadata": {},
   "source": [
    "Code Coming Soon\n",
    "Thank you for your interest in our work!\n",
    "\n",
    "This Part of the notebook is currently a placeholder for the code associated with our paper, which is under submission.\n",
    "The full source code, including instructions and datasets (if applicable), will be released upon the paper's upload to arXiv or acceptance.\n",
    "\n",
    "📌 Please check back soon or watch the repository for updates.\n",
    "\n",
    "If you have any questions, feel free to reach out to the authors via email."
   ]
  },
  {
   "cell_type": "code",
   "execution_count": null,
   "id": "d7ace3fb",
   "metadata": {},
   "outputs": [],
   "source": []
  },
  {
   "cell_type": "markdown",
   "id": "7e929cd8",
   "metadata": {},
   "source": [
    "# Target Variable visualization.\n"
   ]
  },
  {
   "cell_type": "markdown",
   "id": "e6bd43fe",
   "metadata": {},
   "source": [
    "Code Coming Soon\n",
    "Thank you for your interest in our work!\n",
    "\n",
    "This Part of the notebook is currently a placeholder for the code associated with our paper, which is under submission.\n",
    "The full source code, including instructions and datasets (if applicable), will be released upon the paper's upload to arXiv or acceptance.\n",
    "\n",
    "📌 Please check back soon or watch the repository for updates.\n",
    "\n",
    "If you have any questions, feel free to reach out to the authors via email."
   ]
  },
  {
   "cell_type": "code",
   "execution_count": null,
   "id": "77828a1e",
   "metadata": {},
   "outputs": [],
   "source": []
  }
 ],
 "metadata": {
  "kernelspec": {
   "display_name": "forex",
   "language": "python",
   "name": "forex"
  },
  "language_info": {
   "codemirror_mode": {
    "name": "ipython",
    "version": 3
   },
   "file_extension": ".py",
   "mimetype": "text/x-python",
   "name": "python",
   "nbconvert_exporter": "python",
   "pygments_lexer": "ipython3",
   "version": "3.10.9"
  }
 },
 "nbformat": 4,
 "nbformat_minor": 5
}
